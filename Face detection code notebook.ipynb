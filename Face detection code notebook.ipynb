{
 "cells": [
  {
   "cell_type": "markdown",
   "id": "ee43bfc2",
   "metadata": {},
   "source": [
    "#### Import requisite modules"
   ]
  },
  {
   "cell_type": "code",
   "execution_count": 1,
   "id": "bb458413",
   "metadata": {},
   "outputs": [],
   "source": [
    "import numpy as np, cv2, os\n",
    "\n",
    "if not os.path.isdir('Screenshot'):\n",
    "    os.makedirs('Screenshot')\n",
    "\n",
    "#cv2_base_directory = os.path.dirname(os.path.abspath(cv2.__file__))\n",
    "#classifier_path = cv2_base_directory+'\\\\data\\\\haarcascade_frontalface_default.xml'\n",
    "classifier_path = 'haarcascades/haarcascade_frontalface_default.xml'\n",
    "\n",
    "face_classifier = cv2.CascadeClassifier(classifier_path)\n",
    "\n",
    "# To capture video from webcam.\n",
    "cap = cv2.VideoCapture(0)\n",
    "while True:\n",
    "    # Read the frame\n",
    "    _, img = cap.read()\n",
    "    # Convert to grayscale\n",
    "    gray = cv2.cvtColor(img, cv2.COLOR_BGR2GRAY)\n",
    "    # Detect the faces\n",
    "    faces = face_classifier.detectMultiScale(gray, 1.1, 4)\n",
    "    # Draw the rectangle around each face\n",
    "    for (x, y, w, h) in faces:\n",
    "        cv2.rectangle(img, (x, y), (x+w, y+h), (0, 255, 255), 1)\n",
    "    # Display\n",
    "    cv2.imshow('img', img)\n",
    "    # Stop if escape|enter key is pressed\n",
    "    k = cv2.waitKey(30) & 0xff\n",
    "\n",
    "    if (cv2.waitKey(1) == 13) | (k == 27): #13 for return (enter) key\n",
    "        cv2.imwrite('Screenshot/face_screenshot.jpg',img)\n",
    "        break\n",
    "# Release the VideoCapture object\n",
    "cap.release()\n",
    "cv2.destroyAllWindows()"
   ]
  },
  {
   "cell_type": "code",
   "execution_count": 4,
   "id": "f95e801d",
   "metadata": {},
   "outputs": [
    {
     "data": {
      "text/plain": [
       "((480, 640, 3), (480, 640))"
      ]
     },
     "execution_count": 4,
     "metadata": {},
     "output_type": "execute_result"
    }
   ],
   "source": [
    "np.shape(img), np.shape(gray)"
   ]
  },
  {
   "cell_type": "code",
   "execution_count": 5,
   "id": "9067e0f9",
   "metadata": {},
   "outputs": [],
   "source": [
    "import numpy as np, cv2, os\n",
    "\n",
    "if not os.path.isdir('Screenshot'):\n",
    "    os.makedirs('Screenshot')\n",
    "\n",
    "#cv2_base_directory = os.path.dirname(os.path.abspath(cv2.__file__))\n",
    "#classifier_path = cv2_base_directory+'\\\\data\\\\haarcascade_frontalface_default.xml'\n",
    "classifier_path = 'haarcascades/haarcascade_frontalface_default.xml'\n",
    "\n",
    "face_classifier = cv2.CascadeClassifier(classifier_path)\n",
    "\n",
    "# To capture video from webcam.\n",
    "cap = cv2.VideoCapture(0)\n",
    "while True:\n",
    "    # Read the frame\n",
    "    _, img = cap.read()\n",
    "    # Convert to grayscale\n",
    "    gray = cv2.cvtColor(img, cv2.COLOR_BGR2GRAY)\n",
    "    # Detect the faces\n",
    "    faces = face_classifier.detectMultiScale(gray, 1.1, 4)\n",
    "    # Draw the rectangle around each face\n",
    "    for (x, y, w, h) in faces:\n",
    "        cv2.rectangle(img, (x, y), (x+w, y+h), (0, 255, 255), 1)\n",
    "    # Display\n",
    "    cv2.imshow('img', img)\n",
    "    cv2.imwrite('Screenshot/face_screenshot.jpg',img)\n",
    "    # Stop if escape|enter key is pressed\n",
    "    k = cv2.waitKey(30) & 0xff\n",
    "\n",
    "    if (cv2.waitKey(1) == 13) | (k == 27): #13 for return (enter) key\n",
    "        break\n",
    "# Release the VideoCapture object\n",
    "cap.release()\n",
    "cv2.destroyAllWindows()"
   ]
  },
  {
   "cell_type": "code",
   "execution_count": null,
   "id": "eaa79b15",
   "metadata": {},
   "outputs": [],
   "source": []
  }
 ],
 "metadata": {
  "kernelspec": {
   "display_name": "Python 3 (ipykernel)",
   "language": "python",
   "name": "python3"
  },
  "language_info": {
   "codemirror_mode": {
    "name": "ipython",
    "version": 3
   },
   "file_extension": ".py",
   "mimetype": "text/x-python",
   "name": "python",
   "nbconvert_exporter": "python",
   "pygments_lexer": "ipython3",
   "version": "3.9.7"
  }
 },
 "nbformat": 4,
 "nbformat_minor": 5
}
