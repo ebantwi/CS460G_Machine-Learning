{
 "cells": [
  {
   "cell_type": "markdown",
   "id": "ee43bfc2",
   "metadata": {},
   "source": [
    "#### Import requisite modules"
   ]
  },
  {
   "cell_type": "code",
   "execution_count": 2,
   "id": "8ff87275",
   "metadata": {},
   "outputs": [],
   "source": [
    "import numpy as np, cv2, os"
   ]
  },
  {
   "cell_type": "markdown",
   "id": "f48ebd21",
   "metadata": {},
   "source": [
    "#### Get classifier path and choose classifier"
   ]
  },
  {
   "cell_type": "code",
   "execution_count": null,
   "id": "b9cdf2e0",
   "metadata": {},
   "outputs": [],
   "source": [
    "cv2_base_directory = os.path.dirname(os.path.abspath(cv2.__file__))\n",
    "classifier_path = os.path.join(cv2_base_directory, 'data/haarcascade_frontalface_default.xml')\n",
    "print(classifier_path)"
   ]
  },
  {
   "cell_type": "code",
   "execution_count": null,
   "id": "80428ca5",
   "metadata": {},
   "outputs": [],
   "source": [
    "face_classifier = cv2.CascadeClassifier(classifier_path)\n",
    "\n",
    "def detect_face(img, size=0.5):\n",
    "    grayscale = cv2.cvtColor(img, cv2.COLOR_BGR2GRAY)\n",
    "    face = face_classifier.detectMultiScale(grayscale, 1.3, 5)  #scalefactor, min_neighbours\n",
    "    if face is ():\n",
    "        return img\n",
    "    \n",
    "    for (x,y,w,h) in face:\n",
    "        #can crop here if desired to show only face\n",
    "        #cv2.rectangle(img, begin_point, end_point, color, thickness)\n",
    "        cv2.rectangle(img, (x,y), (x+w,y+h), (255,255,0), 1)\n",
    "         \n",
    "cap = cv2.VideoCapture(0)\n",
    "\n",
    "while True:\n",
    "    ret, frame = cap.read()\n",
    "    cv2.imshow('Detected_Face:', detect_face(frame))\n",
    "    if cv2.waitKey(1) == 13: #13 for return (enter) key\n",
    "        break\n",
    "        \n",
    "cap.release()\n",
    "cv2.destroyAllWindows()"
   ]
  },
  {
   "cell_type": "code",
   "execution_count": 10,
   "id": "e92b2545",
   "metadata": {},
   "outputs": [
    {
     "ename": "SystemError",
     "evalue": "<class 'cv2.VideoCapture'> returned a result with an error set",
     "output_type": "error",
     "traceback": [
      "\u001b[0;31m---------------------------------------------------------------------------\u001b[0m",
      "\u001b[0;31merror\u001b[0m                                     Traceback (most recent call last)",
      "\u001b[0;31merror\u001b[0m: OpenCV(4.5.3) /Users/runner/miniforge3/conda-bld/libopencv_1633800950233/work/modules/videoio/src/cap.cpp:239: error: (-215:Assertion failed) !info.backendFactory.empty() in function 'open'\n",
      "\nThe above exception was the direct cause of the following exception:\n",
      "\u001b[0;31mSystemError\u001b[0m                               Traceback (most recent call last)",
      "\u001b[0;32m/var/folders/65/pxlfl6b90pd14p6_4sb80z1h0000gn/T/ipykernel_35304/4000311535.py\u001b[0m in \u001b[0;36m<module>\u001b[0;34m\u001b[0m\n\u001b[0;32m----> 1\u001b[0;31m \u001b[0mcap\u001b[0m \u001b[0;34m=\u001b[0m \u001b[0mcv2\u001b[0m\u001b[0;34m.\u001b[0m\u001b[0mVideoCapture\u001b[0m\u001b[0;34m(\u001b[0m\u001b[0;36m0\u001b[0m\u001b[0;34m)\u001b[0m\u001b[0;31m#\"test.mp4\"\u001b[0m\u001b[0;34m\u001b[0m\u001b[0;34m\u001b[0m\u001b[0m\n\u001b[0m",
      "\u001b[0;31mSystemError\u001b[0m: <class 'cv2.VideoCapture'> returned a result with an error set"
     ]
    }
   ],
   "source": [
    "cap = cv2.VideoCapture(0)#\"test.mp4\""
   ]
  },
  {
   "cell_type": "code",
   "execution_count": 9,
   "id": "e6eaec6d",
   "metadata": {},
   "outputs": [
    {
     "data": {
      "text/plain": [
       "False"
      ]
     },
     "execution_count": 9,
     "metadata": {},
     "output_type": "execute_result"
    }
   ],
   "source": [
    "cap.isOpened()"
   ]
  },
  {
   "cell_type": "code",
   "execution_count": 6,
   "id": "9ba27809",
   "metadata": {},
   "outputs": [],
   "source": [
    "while cap.isOpened():\n",
    "    ret, frame = cap.read()\n",
    "    if frame is not None:\n",
    "        cv2.imshow('Detected_Face:', frame)\n",
    "    if cv2.waitKey(1) == 13: #13 for return (enter) key\n",
    "        break\n",
    "        \n",
    "cap.release()\n",
    "cv2.destroyAllWindows()"
   ]
  },
  {
   "cell_type": "code",
   "execution_count": 7,
   "id": "edf677d3",
   "metadata": {},
   "outputs": [
    {
     "data": {
      "text/plain": [
       "<VideoCapture 0x1703b23d0>"
      ]
     },
     "execution_count": 7,
     "metadata": {},
     "output_type": "execute_result"
    }
   ],
   "source": [
    "cv2.VideoCapture(1000)"
   ]
  },
  {
   "cell_type": "code",
   "execution_count": null,
   "id": "f8b7c529",
   "metadata": {},
   "outputs": [],
   "source": []
  }
 ],
 "metadata": {
  "kernelspec": {
   "display_name": "Python 3 (ipykernel)",
   "language": "python",
   "name": "python3"
  },
  "language_info": {
   "codemirror_mode": {
    "name": "ipython",
    "version": 3
   },
   "file_extension": ".py",
   "mimetype": "text/x-python",
   "name": "python",
   "nbconvert_exporter": "python",
   "pygments_lexer": "ipython3",
   "version": "3.9.7"
  }
 },
 "nbformat": 4,
 "nbformat_minor": 5
}
